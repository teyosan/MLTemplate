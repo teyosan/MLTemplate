{
 "cells": [
  {
   "cell_type": "markdown",
   "id": "27110835",
   "metadata": {
    "_cell_guid": "b1076dfc-b9ad-4769-8c92-a6c4dae69d19",
    "_uuid": "8f2839f25d086af736a60e9eeb907d3b93b6e0e5",
    "papermill": {
     "duration": 0.025006,
     "end_time": "2022-03-31T05:07:23.295572",
     "exception": false,
     "start_time": "2022-03-31T05:07:23.270566",
     "status": "completed"
    },
    "tags": []
   },
   "source": [
    "## Installation"
   ]
  },
  {
   "cell_type": "code",
   "execution_count": 1,
   "id": "7c092aee",
   "metadata": {
    "execution": {
     "iopub.execute_input": "2022-03-31T05:07:23.357197Z",
     "iopub.status.busy": "2022-03-31T05:07:23.353268Z",
     "iopub.status.idle": "2022-03-31T05:07:34.930635Z",
     "shell.execute_reply": "2022-03-31T05:07:34.929435Z",
     "shell.execute_reply.started": "2022-03-31T04:51:38.143873Z"
    },
    "papermill": {
     "duration": 11.611164,
     "end_time": "2022-03-31T05:07:34.930891",
     "exception": false,
     "start_time": "2022-03-31T05:07:23.319727",
     "status": "completed"
    },
    "tags": []
   },
   "outputs": [
    {
     "name": "stdout",
     "output_type": "stream",
     "text": [
      "Collecting pytorch-tabnet\r\n",
      "  Downloading pytorch_tabnet-3.1.1-py3-none-any.whl (39 kB)\r\n",
      "Requirement already satisfied: tqdm<5.0,>=4.36 in /opt/conda/lib/python3.7/site-packages (from pytorch-tabnet) (4.62.3)\r\n",
      "Requirement already satisfied: scipy>1.4 in /opt/conda/lib/python3.7/site-packages (from pytorch-tabnet) (1.7.3)\r\n",
      "Requirement already satisfied: scikit_learn>0.21 in /opt/conda/lib/python3.7/site-packages (from pytorch-tabnet) (1.0.1)\r\n",
      "Requirement already satisfied: torch<2.0,>=1.2 in /opt/conda/lib/python3.7/site-packages (from pytorch-tabnet) (1.9.1+cpu)\r\n",
      "Requirement already satisfied: numpy<2.0,>=1.17 in /opt/conda/lib/python3.7/site-packages (from pytorch-tabnet) (1.20.3)\r\n",
      "Requirement already satisfied: threadpoolctl>=2.0.0 in /opt/conda/lib/python3.7/site-packages (from scikit_learn>0.21->pytorch-tabnet) (3.0.0)\r\n",
      "Requirement already satisfied: joblib>=0.11 in /opt/conda/lib/python3.7/site-packages (from scikit_learn>0.21->pytorch-tabnet) (1.1.0)\r\n",
      "Requirement already satisfied: typing-extensions in /opt/conda/lib/python3.7/site-packages (from torch<2.0,>=1.2->pytorch-tabnet) (4.1.1)\r\n",
      "Installing collected packages: pytorch-tabnet\r\n",
      "Successfully installed pytorch-tabnet-3.1.1\r\n",
      "\u001b[33mWARNING: Running pip as the 'root' user can result in broken permissions and conflicting behaviour with the system package manager. It is recommended to use a virtual environment instead: https://pip.pypa.io/warnings/venv\u001b[0m\r\n"
     ]
    }
   ],
   "source": [
    "!pip install pytorch-tabnet"
   ]
  },
  {
   "cell_type": "markdown",
   "id": "673bd16a",
   "metadata": {
    "papermill": {
     "duration": 0.025551,
     "end_time": "2022-03-31T05:07:34.989476",
     "exception": false,
     "start_time": "2022-03-31T05:07:34.963925",
     "status": "completed"
    },
    "tags": []
   },
   "source": [
    "## Import Libraries"
   ]
  },
  {
   "cell_type": "code",
   "execution_count": 2,
   "id": "d01a8e80",
   "metadata": {
    "execution": {
     "iopub.execute_input": "2022-03-31T05:07:35.058403Z",
     "iopub.status.busy": "2022-03-31T05:07:35.057508Z",
     "iopub.status.idle": "2022-03-31T05:07:35.060811Z",
     "shell.execute_reply": "2022-03-31T05:07:35.061332Z",
     "shell.execute_reply.started": "2022-03-31T04:51:49.453473Z"
    },
    "papermill": {
     "duration": 0.039387,
     "end_time": "2022-03-31T05:07:35.061508",
     "exception": false,
     "start_time": "2022-03-31T05:07:35.022121",
     "status": "completed"
    },
    "tags": []
   },
   "outputs": [
    {
     "name": "stdout",
     "output_type": "stream",
     "text": [
      "IN_COLAB:False, IN_KAGGLE:True, LOCAL:False\n"
     ]
    }
   ],
   "source": [
    "# 環境によって処理を変えるためのもの\n",
    "import sys\n",
    "import os\n",
    "IN_COLAB = 'google.colab' in sys.modules\n",
    "IN_KAGGLE = 'kaggle_web_client' in sys.modules\n",
    "LOCAL = not (IN_KAGGLE or IN_COLAB)\n",
    "print(f'IN_COLAB:{IN_COLAB}, IN_KAGGLE:{IN_KAGGLE}, LOCAL:{LOCAL}')"
   ]
  },
  {
   "cell_type": "code",
   "execution_count": 3,
   "id": "6fdf7c29",
   "metadata": {
    "execution": {
     "iopub.execute_input": "2022-03-31T05:07:35.123939Z",
     "iopub.status.busy": "2022-03-31T05:07:35.123246Z",
     "iopub.status.idle": "2022-03-31T05:07:38.698139Z",
     "shell.execute_reply": "2022-03-31T05:07:38.696746Z",
     "shell.execute_reply.started": "2022-03-31T04:51:49.462738Z"
    },
    "papermill": {
     "duration": 3.610714,
     "end_time": "2022-03-31T05:07:38.698391",
     "exception": false,
     "start_time": "2022-03-31T05:07:35.087677",
     "status": "completed"
    },
    "tags": []
   },
   "outputs": [
    {
     "name": "stdout",
     "output_type": "stream",
     "text": [
      "set_seed29\n"
     ]
    }
   ],
   "source": [
    "# Hide Warning\n",
    "import warnings\n",
    "warnings.filterwarnings('ignore', category=DeprecationWarning)\n",
    "warnings.filterwarnings('ignore', category=FutureWarning)\n",
    "warnings.filterwarnings('ignore', category=UserWarning)\n",
    "\n",
    "# Python Libraries\n",
    "import os\n",
    "import math\n",
    "import random\n",
    "import glob\n",
    "import pickle\n",
    "import gc\n",
    "from pathlib import Path\n",
    "\n",
    "# Third party\n",
    "import numpy as np\n",
    "import pandas as pd\n",
    "from tqdm.auto import tqdm\n",
    "\n",
    "from sklearn import preprocessing\n",
    "from sklearn.model_selection import GroupKFold,StratifiedKFold\n",
    "from sklearn.model_selection import ParameterGrid\n",
    "from sklearn.metrics import mean_absolute_error,roc_auc_score,accuracy_score\n",
    "\n",
    "import category_encoders as ce\n",
    "import optuna\n",
    "\n",
    "import torch\n",
    "from pytorch_tabnet.pretraining import TabNetPretrainer\n",
    "from pytorch_tabnet.tab_model import TabNetRegressor, TabNetClassifier\n",
    "\n",
    "\n",
    "def set_seed(seed: int=29):\n",
    "    print(f'set_seed{seed}')\n",
    "    random.seed(seed)\n",
    "    np.random.seed(seed)\n",
    "    os.environ[\"PYTHONHASHSEED\"] = str(seed)\n",
    "    \n",
    "set_seed()"
   ]
  },
  {
   "cell_type": "code",
   "execution_count": 4,
   "id": "7171bee4",
   "metadata": {
    "execution": {
     "iopub.execute_input": "2022-03-31T05:07:38.767197Z",
     "iopub.status.busy": "2022-03-31T05:07:38.766366Z",
     "iopub.status.idle": "2022-03-31T05:07:38.769370Z",
     "shell.execute_reply": "2022-03-31T05:07:38.769859Z",
     "shell.execute_reply.started": "2022-03-31T04:51:53.221803Z"
    },
    "papermill": {
     "duration": 0.045282,
     "end_time": "2022-03-31T05:07:38.770066",
     "exception": false,
     "start_time": "2022-03-31T05:07:38.724784",
     "status": "completed"
    },
    "tags": []
   },
   "outputs": [],
   "source": [
    "class CFG:\n",
    "    competition = 'spaceship_titanic'\n",
    "    seed = 29\n",
    "    target_col = 'Transported'\n",
    "    n_fold = 5\n",
    "    trn_fold = [0,1,2,3,4]\n",
    "    \n",
    "    # Traininh\n",
    "    # ==============================================================\n",
    "    pretrain_param = {\n",
    "        'model':{\n",
    "            'n_d': 8,\n",
    "            'n_a': 8,\n",
    "            'n_steps': 3,\n",
    "            'gamma': 1.3,\n",
    "            'n_independent': 2,\n",
    "            'n_shared': 2,\n",
    "            'seed': seed,\n",
    "            'lambda_sparse': 1e-3,\n",
    "            'optimizer_fn':torch.optim.Adam,\n",
    "            'optimizer_params':{'lr':2e-2},\n",
    "            'mask_type': 'entmax',\n",
    "            'scheduler_fn': torch.optim.lr_scheduler.ReduceLROnPlateau,\n",
    "            'scheduler_params': {\n",
    "                'mode':'min',\n",
    "                'patience':5,\n",
    "                'min_lr': 1e-5,\n",
    "                'factor': 0.9,\n",
    "            },\n",
    "            'verbose': 10\n",
    "        },\n",
    "        'fit':{\n",
    "            'max_epochs': 200,\n",
    "            'patience': 20,\n",
    "            'batch_size': 256,\n",
    "            'virtual_batch_size': 128,\n",
    "            'num_workers': 1,\n",
    "            'drop_last': True\n",
    "        }\n",
    "    }\n",
    "    train_params = {\n",
    "        'model':{\n",
    "            'n_d': 8,\n",
    "            'n_a': 8,\n",
    "            'n_steps': 3,\n",
    "            'gamma': 1.3,\n",
    "            'n_independent': 2,\n",
    "            'n_shared': 2,\n",
    "            'seed': seed,\n",
    "            'lambda_sparse': 1e-3,\n",
    "            'optimizer_fn': torch.optim.Adam,\n",
    "            'optimizer_params': {'lr': 2e-2, 'weight_decay': 1e-5},\n",
    "            'mask_type': 'entmax',\n",
    "            'scheduler_fn': torch.optim.lr_scheduler.OneCycleLR,\n",
    "            'scheduler_params': {\n",
    "                'max_lr': 0.05,\n",
    "                'steps_per_epoch': 5,\n",
    "                'epochs': 200,\n",
    "                'is_batch_level': True,\n",
    "            },\n",
    "            'verbose': 10\n",
    "        },\n",
    "        'fit':{\n",
    "            'eval_metric': ['accuracy',\"auc\"],\n",
    "            'max_epochs': 200,\n",
    "            'patience': 20,\n",
    "            'batch_size': 256,\n",
    "            'virtual_batch_size': 128,\n",
    "            'num_workers': 0,\n",
    "            'drop_last': False\n",
    "        }\n",
    "    }\n",
    "    \n",
    "    # Feature\n",
    "    # ==============================================================\n",
    "    fillna_value= {\n",
    "        'Age': -1,\n",
    "        'RoomService': -1,\n",
    "        'FoodCourt': -1,\n",
    "        'ShoppingMall': -1,\n",
    "        'Spa': -1,\n",
    "        'VRDeck': -1,\n",
    "    }\n",
    "    cate_cols = []\n",
    "    cont_cols = []\n",
    "    feature_cols = []"
   ]
  },
  {
   "cell_type": "code",
   "execution_count": 5,
   "id": "a5cdff0d",
   "metadata": {
    "execution": {
     "iopub.execute_input": "2022-03-31T05:07:38.828355Z",
     "iopub.status.busy": "2022-03-31T05:07:38.827355Z",
     "iopub.status.idle": "2022-03-31T05:07:38.976673Z",
     "shell.execute_reply": "2022-03-31T05:07:38.977169Z",
     "shell.execute_reply.started": "2022-03-31T04:51:53.239062Z"
    },
    "papermill": {
     "duration": 0.180484,
     "end_time": "2022-03-31T05:07:38.977355",
     "exception": false,
     "start_time": "2022-03-31T05:07:38.796871",
     "status": "completed"
    },
    "tags": []
   },
   "outputs": [
    {
     "data": {
      "text/html": [
       "<div>\n",
       "<style scoped>\n",
       "    .dataframe tbody tr th:only-of-type {\n",
       "        vertical-align: middle;\n",
       "    }\n",
       "\n",
       "    .dataframe tbody tr th {\n",
       "        vertical-align: top;\n",
       "    }\n",
       "\n",
       "    .dataframe thead th {\n",
       "        text-align: right;\n",
       "    }\n",
       "</style>\n",
       "<table border=\"1\" class=\"dataframe\">\n",
       "  <thead>\n",
       "    <tr style=\"text-align: right;\">\n",
       "      <th></th>\n",
       "      <th>PassengerId</th>\n",
       "      <th>HomePlanet</th>\n",
       "      <th>CryoSleep</th>\n",
       "      <th>Cabin</th>\n",
       "      <th>Destination</th>\n",
       "      <th>Age</th>\n",
       "      <th>VIP</th>\n",
       "      <th>RoomService</th>\n",
       "      <th>FoodCourt</th>\n",
       "      <th>ShoppingMall</th>\n",
       "      <th>Spa</th>\n",
       "      <th>VRDeck</th>\n",
       "      <th>Name</th>\n",
       "      <th>Transported</th>\n",
       "    </tr>\n",
       "  </thead>\n",
       "  <tbody>\n",
       "    <tr>\n",
       "      <th>0</th>\n",
       "      <td>0001_01</td>\n",
       "      <td>Europa</td>\n",
       "      <td>False</td>\n",
       "      <td>B/0/P</td>\n",
       "      <td>TRAPPIST-1e</td>\n",
       "      <td>39.0</td>\n",
       "      <td>False</td>\n",
       "      <td>0.0</td>\n",
       "      <td>0.0</td>\n",
       "      <td>0.0</td>\n",
       "      <td>0.0</td>\n",
       "      <td>0.0</td>\n",
       "      <td>Maham Ofracculy</td>\n",
       "      <td>False</td>\n",
       "    </tr>\n",
       "    <tr>\n",
       "      <th>1</th>\n",
       "      <td>0002_01</td>\n",
       "      <td>Earth</td>\n",
       "      <td>False</td>\n",
       "      <td>F/0/S</td>\n",
       "      <td>TRAPPIST-1e</td>\n",
       "      <td>24.0</td>\n",
       "      <td>False</td>\n",
       "      <td>109.0</td>\n",
       "      <td>9.0</td>\n",
       "      <td>25.0</td>\n",
       "      <td>549.0</td>\n",
       "      <td>44.0</td>\n",
       "      <td>Juanna Vines</td>\n",
       "      <td>True</td>\n",
       "    </tr>\n",
       "    <tr>\n",
       "      <th>2</th>\n",
       "      <td>0003_01</td>\n",
       "      <td>Europa</td>\n",
       "      <td>False</td>\n",
       "      <td>A/0/S</td>\n",
       "      <td>TRAPPIST-1e</td>\n",
       "      <td>58.0</td>\n",
       "      <td>True</td>\n",
       "      <td>43.0</td>\n",
       "      <td>3576.0</td>\n",
       "      <td>0.0</td>\n",
       "      <td>6715.0</td>\n",
       "      <td>49.0</td>\n",
       "      <td>Altark Susent</td>\n",
       "      <td>False</td>\n",
       "    </tr>\n",
       "    <tr>\n",
       "      <th>3</th>\n",
       "      <td>0003_02</td>\n",
       "      <td>Europa</td>\n",
       "      <td>False</td>\n",
       "      <td>A/0/S</td>\n",
       "      <td>TRAPPIST-1e</td>\n",
       "      <td>33.0</td>\n",
       "      <td>False</td>\n",
       "      <td>0.0</td>\n",
       "      <td>1283.0</td>\n",
       "      <td>371.0</td>\n",
       "      <td>3329.0</td>\n",
       "      <td>193.0</td>\n",
       "      <td>Solam Susent</td>\n",
       "      <td>False</td>\n",
       "    </tr>\n",
       "    <tr>\n",
       "      <th>4</th>\n",
       "      <td>0004_01</td>\n",
       "      <td>Earth</td>\n",
       "      <td>False</td>\n",
       "      <td>F/1/S</td>\n",
       "      <td>TRAPPIST-1e</td>\n",
       "      <td>16.0</td>\n",
       "      <td>False</td>\n",
       "      <td>303.0</td>\n",
       "      <td>70.0</td>\n",
       "      <td>151.0</td>\n",
       "      <td>565.0</td>\n",
       "      <td>2.0</td>\n",
       "      <td>Willy Santantines</td>\n",
       "      <td>True</td>\n",
       "    </tr>\n",
       "  </tbody>\n",
       "</table>\n",
       "</div>"
      ],
      "text/plain": [
       "  PassengerId HomePlanet CryoSleep  Cabin  Destination   Age    VIP  \\\n",
       "0     0001_01     Europa     False  B/0/P  TRAPPIST-1e  39.0  False   \n",
       "1     0002_01      Earth     False  F/0/S  TRAPPIST-1e  24.0  False   \n",
       "2     0003_01     Europa     False  A/0/S  TRAPPIST-1e  58.0   True   \n",
       "3     0003_02     Europa     False  A/0/S  TRAPPIST-1e  33.0  False   \n",
       "4     0004_01      Earth     False  F/1/S  TRAPPIST-1e  16.0  False   \n",
       "\n",
       "   RoomService  FoodCourt  ShoppingMall     Spa  VRDeck               Name  \\\n",
       "0          0.0        0.0           0.0     0.0     0.0    Maham Ofracculy   \n",
       "1        109.0        9.0          25.0   549.0    44.0       Juanna Vines   \n",
       "2         43.0     3576.0           0.0  6715.0    49.0      Altark Susent   \n",
       "3          0.0     1283.0         371.0  3329.0   193.0       Solam Susent   \n",
       "4        303.0       70.0         151.0   565.0     2.0  Willy Santantines   \n",
       "\n",
       "   Transported  \n",
       "0        False  \n",
       "1         True  \n",
       "2        False  \n",
       "3        False  \n",
       "4         True  "
      ]
     },
     "metadata": {},
     "output_type": "display_data"
    },
    {
     "data": {
      "text/html": [
       "<div>\n",
       "<style scoped>\n",
       "    .dataframe tbody tr th:only-of-type {\n",
       "        vertical-align: middle;\n",
       "    }\n",
       "\n",
       "    .dataframe tbody tr th {\n",
       "        vertical-align: top;\n",
       "    }\n",
       "\n",
       "    .dataframe thead th {\n",
       "        text-align: right;\n",
       "    }\n",
       "</style>\n",
       "<table border=\"1\" class=\"dataframe\">\n",
       "  <thead>\n",
       "    <tr style=\"text-align: right;\">\n",
       "      <th></th>\n",
       "      <th>PassengerId</th>\n",
       "      <th>HomePlanet</th>\n",
       "      <th>CryoSleep</th>\n",
       "      <th>Cabin</th>\n",
       "      <th>Destination</th>\n",
       "      <th>Age</th>\n",
       "      <th>VIP</th>\n",
       "      <th>RoomService</th>\n",
       "      <th>FoodCourt</th>\n",
       "      <th>ShoppingMall</th>\n",
       "      <th>Spa</th>\n",
       "      <th>VRDeck</th>\n",
       "      <th>Name</th>\n",
       "    </tr>\n",
       "  </thead>\n",
       "  <tbody>\n",
       "    <tr>\n",
       "      <th>0</th>\n",
       "      <td>0013_01</td>\n",
       "      <td>Earth</td>\n",
       "      <td>True</td>\n",
       "      <td>G/3/S</td>\n",
       "      <td>TRAPPIST-1e</td>\n",
       "      <td>27.0</td>\n",
       "      <td>False</td>\n",
       "      <td>0.0</td>\n",
       "      <td>0.0</td>\n",
       "      <td>0.0</td>\n",
       "      <td>0.0</td>\n",
       "      <td>0.0</td>\n",
       "      <td>Nelly Carsoning</td>\n",
       "    </tr>\n",
       "    <tr>\n",
       "      <th>1</th>\n",
       "      <td>0018_01</td>\n",
       "      <td>Earth</td>\n",
       "      <td>False</td>\n",
       "      <td>F/4/S</td>\n",
       "      <td>TRAPPIST-1e</td>\n",
       "      <td>19.0</td>\n",
       "      <td>False</td>\n",
       "      <td>0.0</td>\n",
       "      <td>9.0</td>\n",
       "      <td>0.0</td>\n",
       "      <td>2823.0</td>\n",
       "      <td>0.0</td>\n",
       "      <td>Lerome Peckers</td>\n",
       "    </tr>\n",
       "    <tr>\n",
       "      <th>2</th>\n",
       "      <td>0019_01</td>\n",
       "      <td>Europa</td>\n",
       "      <td>True</td>\n",
       "      <td>C/0/S</td>\n",
       "      <td>55 Cancri e</td>\n",
       "      <td>31.0</td>\n",
       "      <td>False</td>\n",
       "      <td>0.0</td>\n",
       "      <td>0.0</td>\n",
       "      <td>0.0</td>\n",
       "      <td>0.0</td>\n",
       "      <td>0.0</td>\n",
       "      <td>Sabih Unhearfus</td>\n",
       "    </tr>\n",
       "    <tr>\n",
       "      <th>3</th>\n",
       "      <td>0021_01</td>\n",
       "      <td>Europa</td>\n",
       "      <td>False</td>\n",
       "      <td>C/1/S</td>\n",
       "      <td>TRAPPIST-1e</td>\n",
       "      <td>38.0</td>\n",
       "      <td>False</td>\n",
       "      <td>0.0</td>\n",
       "      <td>6652.0</td>\n",
       "      <td>0.0</td>\n",
       "      <td>181.0</td>\n",
       "      <td>585.0</td>\n",
       "      <td>Meratz Caltilter</td>\n",
       "    </tr>\n",
       "    <tr>\n",
       "      <th>4</th>\n",
       "      <td>0023_01</td>\n",
       "      <td>Earth</td>\n",
       "      <td>False</td>\n",
       "      <td>F/5/S</td>\n",
       "      <td>TRAPPIST-1e</td>\n",
       "      <td>20.0</td>\n",
       "      <td>False</td>\n",
       "      <td>10.0</td>\n",
       "      <td>0.0</td>\n",
       "      <td>635.0</td>\n",
       "      <td>0.0</td>\n",
       "      <td>0.0</td>\n",
       "      <td>Brence Harperez</td>\n",
       "    </tr>\n",
       "  </tbody>\n",
       "</table>\n",
       "</div>"
      ],
      "text/plain": [
       "  PassengerId HomePlanet CryoSleep  Cabin  Destination   Age    VIP  \\\n",
       "0     0013_01      Earth      True  G/3/S  TRAPPIST-1e  27.0  False   \n",
       "1     0018_01      Earth     False  F/4/S  TRAPPIST-1e  19.0  False   \n",
       "2     0019_01     Europa      True  C/0/S  55 Cancri e  31.0  False   \n",
       "3     0021_01     Europa     False  C/1/S  TRAPPIST-1e  38.0  False   \n",
       "4     0023_01      Earth     False  F/5/S  TRAPPIST-1e  20.0  False   \n",
       "\n",
       "   RoomService  FoodCourt  ShoppingMall     Spa  VRDeck              Name  \n",
       "0          0.0        0.0           0.0     0.0     0.0   Nelly Carsoning  \n",
       "1          0.0        9.0           0.0  2823.0     0.0    Lerome Peckers  \n",
       "2          0.0        0.0           0.0     0.0     0.0   Sabih Unhearfus  \n",
       "3          0.0     6652.0           0.0   181.0   585.0  Meratz Caltilter  \n",
       "4         10.0        0.0         635.0     0.0     0.0   Brence Harperez  "
      ]
     },
     "metadata": {},
     "output_type": "display_data"
    },
    {
     "data": {
      "text/html": [
       "<div>\n",
       "<style scoped>\n",
       "    .dataframe tbody tr th:only-of-type {\n",
       "        vertical-align: middle;\n",
       "    }\n",
       "\n",
       "    .dataframe tbody tr th {\n",
       "        vertical-align: top;\n",
       "    }\n",
       "\n",
       "    .dataframe thead th {\n",
       "        text-align: right;\n",
       "    }\n",
       "</style>\n",
       "<table border=\"1\" class=\"dataframe\">\n",
       "  <thead>\n",
       "    <tr style=\"text-align: right;\">\n",
       "      <th></th>\n",
       "      <th>PassengerId</th>\n",
       "      <th>Transported</th>\n",
       "    </tr>\n",
       "  </thead>\n",
       "  <tbody>\n",
       "    <tr>\n",
       "      <th>0</th>\n",
       "      <td>0013_01</td>\n",
       "      <td>False</td>\n",
       "    </tr>\n",
       "    <tr>\n",
       "      <th>1</th>\n",
       "      <td>0018_01</td>\n",
       "      <td>False</td>\n",
       "    </tr>\n",
       "    <tr>\n",
       "      <th>2</th>\n",
       "      <td>0019_01</td>\n",
       "      <td>False</td>\n",
       "    </tr>\n",
       "    <tr>\n",
       "      <th>3</th>\n",
       "      <td>0021_01</td>\n",
       "      <td>False</td>\n",
       "    </tr>\n",
       "    <tr>\n",
       "      <th>4</th>\n",
       "      <td>0023_01</td>\n",
       "      <td>False</td>\n",
       "    </tr>\n",
       "  </tbody>\n",
       "</table>\n",
       "</div>"
      ],
      "text/plain": [
       "  PassengerId  Transported\n",
       "0     0013_01        False\n",
       "1     0018_01        False\n",
       "2     0019_01        False\n",
       "3     0021_01        False\n",
       "4     0023_01        False"
      ]
     },
     "metadata": {},
     "output_type": "display_data"
    }
   ],
   "source": [
    "if IN_KAGGLE:\n",
    "    INPUT_DIR = Path('../input/spaceship-titanic')\n",
    "    OUTPUT_DIR = './'\n",
    "elif IN_COLAB:\n",
    "    INPUT_DIR = Path('/content/input/')\n",
    "    OUTPUT_DIR = f'/content/drive/MyDrive/kaggle/spaceship-titanic/{CFG.exp_name}/'\n",
    "if LOCAL:\n",
    "    INPUT_DIR = Path(\"F:/Kaggle/spaceship-titanic/data/input/\")\n",
    "    OUTPUT_DIR = f'F:/Kaggle/pspaceship-titanic/data/output/{CFG.exp_name}/'\n",
    "    \n",
    "df_train = pd.read_csv(INPUT_DIR / \"train.csv\")\n",
    "df_test = pd.read_csv(INPUT_DIR / \"test.csv\")\n",
    "df_sub = pd.read_csv(INPUT_DIR / \"sample_submission.csv\")\n",
    "df_oof = df_train.copy()\n",
    "display(df_train.head())\n",
    "display(df_test.head())\n",
    "display(df_sub.head())"
   ]
  },
  {
   "cell_type": "code",
   "execution_count": 6,
   "id": "fe2e729b",
   "metadata": {
    "execution": {
     "iopub.execute_input": "2022-03-31T05:07:39.044381Z",
     "iopub.status.busy": "2022-03-31T05:07:39.043433Z",
     "iopub.status.idle": "2022-03-31T05:07:39.047915Z",
     "shell.execute_reply": "2022-03-31T05:07:39.048407Z",
     "shell.execute_reply.started": "2022-03-31T04:51:53.397313Z"
    },
    "papermill": {
     "duration": 0.037123,
     "end_time": "2022-03-31T05:07:39.048597",
     "exception": false,
     "start_time": "2022-03-31T05:07:39.011474",
     "status": "completed"
    },
    "tags": []
   },
   "outputs": [],
   "source": [
    "CFG.cate_cols = ['HomePlanet', 'CryoSleep', 'Destination', 'VIP', ]\n",
    "CFG.cont_cols = ['Age', 'RoomService', 'FoodCourt', 'ShoppingMall', 'Spa', 'VRDeck']\n",
    "CFG.feature_cols =  CFG.cont_cols  #+ CFG.cate_cols"
   ]
  },
  {
   "cell_type": "markdown",
   "id": "14899849",
   "metadata": {
    "papermill": {
     "duration": 0.028405,
     "end_time": "2022-03-31T05:07:39.106097",
     "exception": false,
     "start_time": "2022-03-31T05:07:39.077692",
     "status": "completed"
    },
    "tags": []
   },
   "source": [
    "## Feature Engneering"
   ]
  },
  {
   "cell_type": "code",
   "execution_count": 7,
   "id": "9c0740aa",
   "metadata": {
    "execution": {
     "iopub.execute_input": "2022-03-31T05:07:39.171258Z",
     "iopub.status.busy": "2022-03-31T05:07:39.170568Z",
     "iopub.status.idle": "2022-03-31T05:07:39.219893Z",
     "shell.execute_reply": "2022-03-31T05:07:39.220396Z",
     "shell.execute_reply.started": "2022-03-31T04:51:53.405374Z"
    },
    "papermill": {
     "duration": 0.083913,
     "end_time": "2022-03-31T05:07:39.220563",
     "exception": false,
     "start_time": "2022-03-31T05:07:39.136650",
     "status": "completed"
    },
    "tags": []
   },
   "outputs": [
    {
     "name": "stdout",
     "output_type": "stream",
     "text": [
      "Age             0\n",
      "RoomService     0\n",
      "FoodCourt       0\n",
      "ShoppingMall    0\n",
      "Spa             0\n",
      "VRDeck          0\n",
      "dtype: int64\n"
     ]
    },
    {
     "data": {
      "text/html": [
       "<div>\n",
       "<style scoped>\n",
       "    .dataframe tbody tr th:only-of-type {\n",
       "        vertical-align: middle;\n",
       "    }\n",
       "\n",
       "    .dataframe tbody tr th {\n",
       "        vertical-align: top;\n",
       "    }\n",
       "\n",
       "    .dataframe thead th {\n",
       "        text-align: right;\n",
       "    }\n",
       "</style>\n",
       "<table border=\"1\" class=\"dataframe\">\n",
       "  <thead>\n",
       "    <tr style=\"text-align: right;\">\n",
       "      <th></th>\n",
       "      <th>Age</th>\n",
       "      <th>RoomService</th>\n",
       "      <th>FoodCourt</th>\n",
       "      <th>ShoppingMall</th>\n",
       "      <th>Spa</th>\n",
       "      <th>VRDeck</th>\n",
       "    </tr>\n",
       "  </thead>\n",
       "  <tbody>\n",
       "    <tr>\n",
       "      <th>count</th>\n",
       "      <td>8693.000000</td>\n",
       "      <td>8693.000000</td>\n",
       "      <td>8693.000000</td>\n",
       "      <td>8693.000000</td>\n",
       "      <td>8693.000000</td>\n",
       "      <td>8693.000000</td>\n",
       "    </tr>\n",
       "    <tr>\n",
       "      <th>mean</th>\n",
       "      <td>28.213735</td>\n",
       "      <td>219.988496</td>\n",
       "      <td>448.412976</td>\n",
       "      <td>169.548372</td>\n",
       "      <td>304.567813</td>\n",
       "      <td>298.240193</td>\n",
       "    </tr>\n",
       "    <tr>\n",
       "      <th>std</th>\n",
       "      <td>14.951705</td>\n",
       "      <td>660.526002</td>\n",
       "      <td>1595.796550</td>\n",
       "      <td>598.013969</td>\n",
       "      <td>1125.568266</td>\n",
       "      <td>1134.132115</td>\n",
       "    </tr>\n",
       "    <tr>\n",
       "      <th>min</th>\n",
       "      <td>-1.000000</td>\n",
       "      <td>-1.000000</td>\n",
       "      <td>-1.000000</td>\n",
       "      <td>-1.000000</td>\n",
       "      <td>-1.000000</td>\n",
       "      <td>-1.000000</td>\n",
       "    </tr>\n",
       "    <tr>\n",
       "      <th>25%</th>\n",
       "      <td>19.000000</td>\n",
       "      <td>0.000000</td>\n",
       "      <td>0.000000</td>\n",
       "      <td>0.000000</td>\n",
       "      <td>0.000000</td>\n",
       "      <td>0.000000</td>\n",
       "    </tr>\n",
       "    <tr>\n",
       "      <th>50%</th>\n",
       "      <td>27.000000</td>\n",
       "      <td>0.000000</td>\n",
       "      <td>0.000000</td>\n",
       "      <td>0.000000</td>\n",
       "      <td>0.000000</td>\n",
       "      <td>0.000000</td>\n",
       "    </tr>\n",
       "    <tr>\n",
       "      <th>75%</th>\n",
       "      <td>37.000000</td>\n",
       "      <td>41.000000</td>\n",
       "      <td>61.000000</td>\n",
       "      <td>22.000000</td>\n",
       "      <td>53.000000</td>\n",
       "      <td>40.000000</td>\n",
       "    </tr>\n",
       "    <tr>\n",
       "      <th>max</th>\n",
       "      <td>79.000000</td>\n",
       "      <td>14327.000000</td>\n",
       "      <td>29813.000000</td>\n",
       "      <td>23492.000000</td>\n",
       "      <td>22408.000000</td>\n",
       "      <td>24133.000000</td>\n",
       "    </tr>\n",
       "  </tbody>\n",
       "</table>\n",
       "</div>"
      ],
      "text/plain": [
       "               Age   RoomService     FoodCourt  ShoppingMall           Spa  \\\n",
       "count  8693.000000   8693.000000   8693.000000   8693.000000   8693.000000   \n",
       "mean     28.213735    219.988496    448.412976    169.548372    304.567813   \n",
       "std      14.951705    660.526002   1595.796550    598.013969   1125.568266   \n",
       "min      -1.000000     -1.000000     -1.000000     -1.000000     -1.000000   \n",
       "25%      19.000000      0.000000      0.000000      0.000000      0.000000   \n",
       "50%      27.000000      0.000000      0.000000      0.000000      0.000000   \n",
       "75%      37.000000     41.000000     61.000000     22.000000     53.000000   \n",
       "max      79.000000  14327.000000  29813.000000  23492.000000  22408.000000   \n",
       "\n",
       "             VRDeck  \n",
       "count   8693.000000  \n",
       "mean     298.240193  \n",
       "std     1134.132115  \n",
       "min       -1.000000  \n",
       "25%        0.000000  \n",
       "50%        0.000000  \n",
       "75%       40.000000  \n",
       "max    24133.000000  "
      ]
     },
     "execution_count": 7,
     "metadata": {},
     "output_type": "execute_result"
    }
   ],
   "source": [
    "# fillna\n",
    "df_train = df_train.fillna(CFG.fillna_value)\n",
    "df_test = df_test.fillna(CFG.fillna_value)\n",
    "print(df_train[CFG.cont_cols].isnull().sum())\n",
    "df_train[CFG.cont_cols].describe()"
   ]
  },
  {
   "cell_type": "code",
   "execution_count": 8,
   "id": "ba2c5394",
   "metadata": {
    "execution": {
     "iopub.execute_input": "2022-03-31T05:07:39.284450Z",
     "iopub.status.busy": "2022-03-31T05:07:39.283451Z",
     "iopub.status.idle": "2022-03-31T05:07:39.492020Z",
     "shell.execute_reply": "2022-03-31T05:07:39.492831Z",
     "shell.execute_reply.started": "2022-03-31T04:51:53.468172Z"
    },
    "papermill": {
     "duration": 0.242491,
     "end_time": "2022-03-31T05:07:39.493010",
     "exception": false,
     "start_time": "2022-03-31T05:07:39.250519",
     "status": "completed"
    },
    "tags": []
   },
   "outputs": [
    {
     "name": "stdout",
     "output_type": "stream",
     "text": [
      "['OE_HomePlanet', 'OE_CryoSleep', 'OE_Destination', 'OE_VIP']\n",
      "['HomePlanet_1', 'HomePlanet_2', 'HomePlanet_3', 'HomePlanet_4', 'CryoSleep_1', 'CryoSleep_2', 'CryoSleep_3', 'Destination_1', 'Destination_2', 'Destination_3', 'Destination_4', 'VIP_1', 'VIP_2', 'VIP_3']\n"
     ]
    }
   ],
   "source": [
    "# Caategory Encodeing\n",
    "_OE_COLS = ['HomePlanet', 'CryoSleep', 'Destination','VIP']\n",
    "OE_COLS = ['OE_' + col for col in _OE_COLS]\n",
    "ce_oe = ce.OrdinalEncoder(cols=_OE_COLS,handle_missing='return_nan')\n",
    "df_train[OE_COLS] = ce_oe.fit_transform(df_train[_OE_COLS])\n",
    "df_test[OE_COLS] = ce_oe.transform(df_test[_OE_COLS])\n",
    "# CFG.feature_cols += OE_COLS \n",
    "print(OE_COLS)\n",
    "\n",
    "# One-Hot-Encoding\n",
    "_OHE_COLS = ['HomePlanet', 'CryoSleep', 'Destination','VIP']\n",
    "ce_ohe = ce.OneHotEncoder(cols=_OHE_COLS, handle_unknown='impute')\n",
    "_df_ohe = ce_ohe.fit_transform(df_train[_OHE_COLS])\n",
    "OHE_COLS = _df_ohe.columns.to_list()\n",
    "df_train[OHE_COLS] = _df_ohe[OHE_COLS]\n",
    "df_test[OHE_COLS] = ce_ohe.transform(df_test[_OHE_COLS])\n",
    "CFG.feature_cols += OHE_COLS \n",
    "print(OHE_COLS)"
   ]
  },
  {
   "cell_type": "markdown",
   "id": "5e7417a6",
   "metadata": {
    "papermill": {
     "duration": 0.030601,
     "end_time": "2022-03-31T05:07:39.556505",
     "exception": false,
     "start_time": "2022-03-31T05:07:39.525904",
     "status": "completed"
    },
    "tags": []
   },
   "source": [
    "## CV Split"
   ]
  },
  {
   "cell_type": "code",
   "execution_count": 9,
   "id": "f0b69520",
   "metadata": {
    "execution": {
     "iopub.execute_input": "2022-03-31T05:07:39.622846Z",
     "iopub.status.busy": "2022-03-31T05:07:39.621856Z",
     "iopub.status.idle": "2022-03-31T05:07:39.646286Z",
     "shell.execute_reply": "2022-03-31T05:07:39.646876Z",
     "shell.execute_reply.started": "2022-03-31T04:51:53.684916Z"
    },
    "papermill": {
     "duration": 0.059172,
     "end_time": "2022-03-31T05:07:39.647060",
     "exception": false,
     "start_time": "2022-03-31T05:07:39.587888",
     "status": "completed"
    },
    "tags": []
   },
   "outputs": [
    {
     "name": "stdout",
     "output_type": "stream",
     "text": [
      "True     4378\n",
      "False    4315\n",
      "Name: Transported, dtype: int64\n",
      "fold  Transported\n",
      "0     False          863\n",
      "      True           876\n",
      "1     False          863\n",
      "      True           876\n",
      "2     False          863\n",
      "      True           876\n",
      "3     False          863\n",
      "      True           875\n",
      "4     False          863\n",
      "      True           875\n",
      "dtype: int64\n"
     ]
    }
   ],
   "source": [
    "print(df_train.Transported.value_counts())\n",
    "df_train[\"fold\"] = -1\n",
    "\"\"\"\n",
    "StratifiedKFold\n",
    "\"\"\"\n",
    "Fold = StratifiedKFold(n_splits=CFG.n_fold, shuffle=True, random_state=CFG.seed)\n",
    "for n, (train_index, val_index) in enumerate(Fold.split(df_train, df_train[CFG.target_col])):\n",
    "    df_train.loc[val_index, 'fold'] = int(n)\n",
    "    \n",
    "\"\"\"\n",
    "\"\"\"\n",
    "df_train['fold'] = df_train['fold'].astype(int)\n",
    "df_oof['fold'] = df_train['fold']\n",
    "print(df_train.groupby(['fold', CFG.target_col]).size())"
   ]
  },
  {
   "cell_type": "markdown",
   "id": "e4463b41",
   "metadata": {
    "papermill": {
     "duration": 0.031308,
     "end_time": "2022-03-31T05:07:39.710158",
     "exception": false,
     "start_time": "2022-03-31T05:07:39.678850",
     "status": "completed"
    },
    "tags": []
   },
   "source": [
    "## Function"
   ]
  },
  {
   "cell_type": "code",
   "execution_count": 10,
   "id": "889c01f0",
   "metadata": {
    "execution": {
     "iopub.execute_input": "2022-03-31T05:07:39.780430Z",
     "iopub.status.busy": "2022-03-31T05:07:39.775991Z",
     "iopub.status.idle": "2022-03-31T05:10:08.179074Z",
     "shell.execute_reply": "2022-03-31T05:10:08.179647Z",
     "shell.execute_reply.started": "2022-03-31T04:51:53.715149Z"
    },
    "papermill": {
     "duration": 148.438965,
     "end_time": "2022-03-31T05:10:08.179864",
     "exception": false,
     "start_time": "2022-03-31T05:07:39.740899",
     "status": "completed"
    },
    "tags": []
   },
   "outputs": [
    {
     "name": "stdout",
     "output_type": "stream",
     "text": [
      "Device used : cpu\n",
      "epoch 0  | loss: 8.76107 | val_0_unsup_loss: 2.43717 |  0:00:01s\n",
      "epoch 10 | loss: 0.90019 | val_0_unsup_loss: 0.90567 |  0:00:13s\n",
      "epoch 20 | loss: 0.82353 | val_0_unsup_loss: 0.83969 |  0:00:24s\n",
      "epoch 30 | loss: 0.80908 | val_0_unsup_loss: 0.83124 |  0:00:36s\n",
      "epoch 40 | loss: 0.78099 | val_0_unsup_loss: 0.79091 |  0:00:47s\n",
      "epoch 50 | loss: 0.78203 | val_0_unsup_loss: 0.78524 |  0:00:59s\n",
      "epoch 60 | loss: 1442.95286| val_0_unsup_loss: 0.78653 |  0:01:10s\n",
      "epoch 70 | loss: 0.77437 | val_0_unsup_loss: 0.77647 |  0:01:22s\n",
      "epoch 80 | loss: 0.7581  | val_0_unsup_loss: 0.71905 |  0:01:34s\n",
      "epoch 90 | loss: 0.76374 | val_0_unsup_loss: 0.72381 |  0:01:45s\n",
      "epoch 100| loss: 0.76346 | val_0_unsup_loss: 0.72396 |  0:01:57s\n",
      "epoch 110| loss: 0.74189 | val_0_unsup_loss: 0.71853 |  0:02:08s\n",
      "epoch 120| loss: 0.75932 | val_0_unsup_loss: 0.73961 |  0:02:20s\n",
      "\n",
      "Early stopping occurred at epoch 127 with best_epoch = 107 and best_val_0_unsup_loss = 0.71339\n",
      "Best weights from best epoch are automatically used!\n"
     ]
    }
   ],
   "source": [
    "\"\"\"==============================\n",
    "Pretrain\n",
    "==============================\"\"\"\n",
    "\n",
    "unsupervised_model = TabNetPretrainer(**CFG.pretrain_param[\"model\"])\n",
    "\n",
    "unsupervised_model.fit(\n",
    "    X_train=df_train.loc[df_train['fold'] != 0, CFG.feature_cols].to_numpy(),\n",
    "    eval_set=[df_train.loc[df_train['fold'] == 0, CFG.feature_cols].to_numpy()],\n",
    "    **CFG.pretrain_param[\"fit\"]\n",
    ")"
   ]
  },
  {
   "cell_type": "code",
   "execution_count": 11,
   "id": "ff0ed498",
   "metadata": {
    "execution": {
     "iopub.execute_input": "2022-03-31T05:10:08.258053Z",
     "iopub.status.busy": "2022-03-31T05:10:08.257360Z",
     "iopub.status.idle": "2022-03-31T05:10:08.264660Z",
     "shell.execute_reply": "2022-03-31T05:10:08.265147Z",
     "shell.execute_reply.started": "2022-03-31T04:54:21.334509Z"
    },
    "papermill": {
     "duration": 0.047982,
     "end_time": "2022-03-31T05:10:08.265354",
     "exception": false,
     "start_time": "2022-03-31T05:10:08.217372",
     "status": "completed"
    },
    "tags": []
   },
   "outputs": [],
   "source": [
    "def fit_tabnet(cfg, X_train, y_train, X_valid, y_valid, unsupervised_model=None):\n",
    "    oof_pred = np.zeros(len(y_valid), dtype=np.float32)\n",
    "    \n",
    "    clf = TabNetClassifier(**cfg.train_params[\"model\"])\n",
    "    clf.fit(\n",
    "        X_train=X_train,\n",
    "        y_train=y_train,\n",
    "        eval_set=[(X_valid, y_valid)],\n",
    "        eval_name = [\"valid\"],\n",
    "        **cfg.train_params[\"fit\"],\n",
    "        from_unsupervised=unsupervised_model\n",
    "            )\n",
    "    oof_pred = clf.predict_proba(X_valid)[:,1]\n",
    "    score = roc_auc_score(y_valid, oof_pred)\n",
    "    return oof_pred, clf, score"
   ]
  },
  {
   "cell_type": "markdown",
   "id": "cd63c00b",
   "metadata": {
    "papermill": {
     "duration": 0.036908,
     "end_time": "2022-03-31T05:10:08.338818",
     "exception": false,
     "start_time": "2022-03-31T05:10:08.301910",
     "status": "completed"
    },
    "tags": []
   },
   "source": [
    "## Training"
   ]
  },
  {
   "cell_type": "code",
   "execution_count": 12,
   "id": "c9eb7c1c",
   "metadata": {
    "execution": {
     "iopub.execute_input": "2022-03-31T05:10:08.438189Z",
     "iopub.status.busy": "2022-03-31T05:10:08.416214Z",
     "iopub.status.idle": "2022-03-31T05:15:00.389608Z",
     "shell.execute_reply": "2022-03-31T05:15:00.389021Z",
     "shell.execute_reply.started": "2022-03-31T04:54:21.344957Z"
    },
    "papermill": {
     "duration": 292.013658,
     "end_time": "2022-03-31T05:15:00.389774",
     "exception": false,
     "start_time": "2022-03-31T05:10:08.376116",
     "status": "completed"
    },
    "tags": []
   },
   "outputs": [
    {
     "data": {
      "application/vnd.jupyter.widget-view+json": {
       "model_id": "a259f912016945fa82eeb8d10c9d6bb1",
       "version_major": 2,
       "version_minor": 0
      },
      "text/plain": [
       "  0%|          | 0/5 [00:00<?, ?it/s]"
      ]
     },
     "metadata": {},
     "output_type": "display_data"
    },
    {
     "name": "stdout",
     "output_type": "stream",
     "text": [
      "====================================== Fold: 0 ======================================\n",
      "Device used : cpu\n",
      "Loading weights from unsupervised pretraining\n",
      "epoch 0  | loss: 1.08258 | valid_accuracy: 0.50374 | valid_auc: 0.63819 |  0:00:00s\n",
      "epoch 10 | loss: 0.44797 | valid_accuracy: 0.79241 | valid_auc: 0.87871 |  0:00:09s\n",
      "epoch 20 | loss: 0.44808 | valid_accuracy: 0.79011 | valid_auc: 0.88052 |  0:00:17s\n",
      "epoch 30 | loss: 0.44336 | valid_accuracy: 0.79586 | valid_auc: 0.88327 |  0:00:26s\n",
      "epoch 40 | loss: 0.43859 | valid_accuracy: 0.74411 | valid_auc: 0.87736 |  0:00:35s\n",
      "epoch 50 | loss: 0.43997 | valid_accuracy: 0.76481 | valid_auc: 0.88599 |  0:00:44s\n",
      "epoch 60 | loss: 0.43339 | valid_accuracy: 0.78321 | valid_auc: 0.88247 |  0:00:52s\n",
      "\n",
      "Early stopping occurred at epoch 65 with best_epoch = 45 and best_valid_auc = 0.88952\n",
      "Best weights from best epoch are automatically used!\n",
      "====================================== Fold: 1 ======================================\n",
      "Device used : cpu\n",
      "Loading weights from unsupervised pretraining\n",
      "epoch 0  | loss: 1.08183 | valid_accuracy: 0.50374 | valid_auc: 0.61459 |  0:00:00s\n",
      "epoch 10 | loss: 0.44624 | valid_accuracy: 0.77286 | valid_auc: 0.85619 |  0:00:09s\n",
      "epoch 20 | loss: 0.43579 | valid_accuracy: 0.76538 | valid_auc: 0.86066 |  0:00:17s\n",
      "epoch 30 | loss: 0.42823 | valid_accuracy: 0.75446 | valid_auc: 0.8619  |  0:00:25s\n",
      "epoch 40 | loss: 0.42309 | valid_accuracy: 0.77401 | valid_auc: 0.86594 |  0:00:33s\n",
      "epoch 50 | loss: 0.42064 | valid_accuracy: 0.76021 | valid_auc: 0.86323 |  0:00:42s\n",
      "epoch 60 | loss: 0.42135 | valid_accuracy: 0.76251 | valid_auc: 0.86452 |  0:00:50s\n",
      "epoch 70 | loss: 0.41807 | valid_accuracy: 0.76251 | valid_auc: 0.86411 |  0:00:59s\n",
      "\n",
      "Early stopping occurred at epoch 77 with best_epoch = 57 and best_valid_auc = 0.8675\n",
      "Best weights from best epoch are automatically used!\n",
      "====================================== Fold: 2 ======================================\n",
      "Device used : cpu\n",
      "Loading weights from unsupervised pretraining\n",
      "epoch 0  | loss: 1.08596 | valid_accuracy: 0.50374 | valid_auc: 0.6323  |  0:00:00s\n",
      "epoch 10 | loss: 0.45067 | valid_accuracy: 0.79068 | valid_auc: 0.87824 |  0:00:09s\n",
      "epoch 20 | loss: 0.43971 | valid_accuracy: 0.79528 | valid_auc: 0.87625 |  0:00:18s\n",
      "epoch 30 | loss: 0.43286 | valid_accuracy: 0.79931 | valid_auc: 0.87664 |  0:00:26s\n",
      "\n",
      "Early stopping occurred at epoch 34 with best_epoch = 14 and best_valid_auc = 0.87933\n",
      "Best weights from best epoch are automatically used!\n",
      "====================================== Fold: 3 ======================================\n",
      "Device used : cpu\n",
      "Loading weights from unsupervised pretraining\n",
      "epoch 0  | loss: 1.08536 | valid_accuracy: 0.50345 | valid_auc: 0.62725 |  0:00:00s\n",
      "epoch 10 | loss: 0.44845 | valid_accuracy: 0.77388 | valid_auc: 0.86476 |  0:00:09s\n",
      "epoch 20 | loss: 0.44003 | valid_accuracy: 0.78251 | valid_auc: 0.8701  |  0:00:17s\n",
      "epoch 30 | loss: 0.42898 | valid_accuracy: 0.78539 | valid_auc: 0.87129 |  0:00:25s\n",
      "epoch 40 | loss: 0.42768 | valid_accuracy: 0.78423 | valid_auc: 0.8739  |  0:00:34s\n",
      "epoch 50 | loss: 0.42406 | valid_accuracy: 0.78481 | valid_auc: 0.87304 |  0:00:42s\n",
      "epoch 60 | loss: 0.42582 | valid_accuracy: 0.78941 | valid_auc: 0.87657 |  0:00:51s\n",
      "epoch 70 | loss: 0.42066 | valid_accuracy: 0.78193 | valid_auc: 0.87603 |  0:00:59s\n",
      "epoch 80 | loss: 0.41965 | valid_accuracy: 0.79114 | valid_auc: 0.87548 |  0:01:08s\n",
      "epoch 90 | loss: 0.41451 | valid_accuracy: 0.78654 | valid_auc: 0.87436 |  0:01:16s\n",
      "\n",
      "Early stopping occurred at epoch 93 with best_epoch = 73 and best_valid_auc = 0.87725\n",
      "Best weights from best epoch are automatically used!\n",
      "====================================== Fold: 4 ======================================\n",
      "Device used : cpu\n",
      "Loading weights from unsupervised pretraining\n",
      "epoch 0  | loss: 1.09024 | valid_accuracy: 0.50345 | valid_auc: 0.63504 |  0:00:00s\n",
      "epoch 10 | loss: 0.45565 | valid_accuracy: 0.79459 | valid_auc: 0.87126 |  0:00:09s\n",
      "epoch 20 | loss: 0.44402 | valid_accuracy: 0.78884 | valid_auc: 0.87509 |  0:00:18s\n",
      "epoch 30 | loss: 0.43542 | valid_accuracy: 0.79747 | valid_auc: 0.87826 |  0:00:26s\n",
      "epoch 40 | loss: 0.43229 | valid_accuracy: 0.79977 | valid_auc: 0.87956 |  0:00:35s\n",
      "epoch 50 | loss: 0.42575 | valid_accuracy: 0.79632 | valid_auc: 0.87757 |  0:00:43s\n",
      "epoch 60 | loss: 0.42857 | valid_accuracy: 0.79287 | valid_auc: 0.87638 |  0:00:51s\n",
      "\n",
      "Early stopping occurred at epoch 66 with best_epoch = 46 and best_valid_auc = 0.88236\n",
      "Best weights from best epoch are automatically used!\n"
     ]
    }
   ],
   "source": [
    "# set params\n",
    "CFG.train_params[\"model\"][\"scheduler_params\"][\"steps_per_epoch\"] = int(math.ceil((df_train['fold'] != 0).sum()/CFG.train_params[\"fit\"][\"batch_size\"]))\n",
    "\n",
    "\n",
    "models = []\n",
    "for fold in tqdm(range(CFG.n_fold)):\n",
    "    if not fold in CFG.trn_fold:\n",
    "        continue\n",
    "    print(f\"{'='*38} Fold: {fold} {'='*38}\")\n",
    "\n",
    "    oof_pred, model, score = fit_tabnet(CFG,\n",
    "                                       df_train.loc[df_train['fold'] != fold, CFG.feature_cols].to_numpy(),\n",
    "                                       df_train.loc[df_train['fold'] != fold, CFG.target_col].to_numpy(),\n",
    "                                       df_train.loc[df_train['fold'] == fold, CFG.feature_cols].to_numpy(),\n",
    "                                       df_train.loc[df_train['fold'] == fold, CFG.target_col].to_numpy(),\n",
    "                                       unsupervised_model,)\n",
    "    # oof\n",
    "    df_oof.loc[df_train['fold'] == fold,['pred']] = oof_pred\n",
    "    models.append(model)"
   ]
  },
  {
   "cell_type": "code",
   "execution_count": 13,
   "id": "164aa350",
   "metadata": {
    "execution": {
     "iopub.execute_input": "2022-03-31T05:15:00.503490Z",
     "iopub.status.busy": "2022-03-31T05:15:00.502843Z",
     "iopub.status.idle": "2022-03-31T05:15:00.788227Z",
     "shell.execute_reply": "2022-03-31T05:15:00.787704Z",
     "shell.execute_reply.started": "2022-03-31T04:59:12.236671Z"
    },
    "papermill": {
     "duration": 0.344674,
     "end_time": "2022-03-31T05:15:00.788414",
     "exception": false,
     "start_time": "2022-03-31T05:15:00.443740",
     "status": "completed"
    },
    "tags": []
   },
   "outputs": [
    {
     "data": {
      "text/plain": [
       "<AxesSubplot:>"
      ]
     },
     "execution_count": 13,
     "metadata": {},
     "output_type": "execute_result"
    },
    {
     "data": {
      "image/png": "[encoded data removed]",
      "text/plain": [
       "<Figure size 432x288 with 1 Axes>"
      ]
     },
     "metadata": {
      "needs_background": "light"
     },
     "output_type": "display_data"
    }
   ],
   "source": [
    "df_oof[df_oof['Transported'] == True].pred.hist()"
   ]
  },
  {
   "cell_type": "code",
   "execution_count": 14,
   "id": "e6357937",
   "metadata": {
    "execution": {
     "iopub.execute_input": "2022-03-31T05:15:00.904462Z",
     "iopub.status.busy": "2022-03-31T05:15:00.903440Z",
     "iopub.status.idle": "2022-03-31T05:15:00.916422Z",
     "shell.execute_reply": "2022-03-31T05:15:00.916944Z",
     "shell.execute_reply.started": "2022-03-31T04:59:12.523172Z"
    },
    "papermill": {
     "duration": 0.072571,
     "end_time": "2022-03-31T05:15:00.917130",
     "exception": false,
     "start_time": "2022-03-31T05:15:00.844559",
     "status": "completed"
    },
    "tags": []
   },
   "outputs": [
    {
     "name": "stdout",
     "output_type": "stream",
     "text": [
      "roc_auc:0.8773210569861845\n",
      "accuracy:0.7919015299666399\n"
     ]
    }
   ],
   "source": [
    "print(f'roc_auc:{roc_auc_score(df_oof.Transported, df_oof.pred)}')\n",
    "df_oof['pred_bool'] = df_oof.pred > 0.5\n",
    "print(f'accuracy:{accuracy_score(df_oof.Transported, df_oof.pred_bool)}')"
   ]
  },
  {
   "cell_type": "code",
   "execution_count": 15,
   "id": "6339e5ee",
   "metadata": {
    "execution": {
     "iopub.execute_input": "2022-03-31T05:15:01.032081Z",
     "iopub.status.busy": "2022-03-31T05:15:01.031038Z",
     "iopub.status.idle": "2022-03-31T05:15:01.817011Z",
     "shell.execute_reply": "2022-03-31T05:15:01.816358Z",
     "shell.execute_reply.started": "2022-03-31T04:59:12.538660Z"
    },
    "papermill": {
     "duration": 0.844597,
     "end_time": "2022-03-31T05:15:01.817176",
     "exception": false,
     "start_time": "2022-03-31T05:15:00.972579",
     "status": "completed"
    },
    "tags": []
   },
   "outputs": [],
   "source": [
    "y_preds =[]\n",
    "for model in models:\n",
    "    y_pred = model.predict_proba(df_test[CFG.feature_cols].to_numpy())[:,1]\n",
    "    y_preds.append(y_pred)\n",
    "pred = np.mean(y_preds,axis=0)"
   ]
  },
  {
   "cell_type": "code",
   "execution_count": 16,
   "id": "f64f5402",
   "metadata": {
    "execution": {
     "iopub.execute_input": "2022-03-31T05:15:01.935188Z",
     "iopub.status.busy": "2022-03-31T05:15:01.934537Z",
     "iopub.status.idle": "2022-03-31T05:15:01.950630Z",
     "shell.execute_reply": "2022-03-31T05:15:01.951189Z",
     "shell.execute_reply.started": "2022-03-31T04:59:13.343244Z"
    },
    "papermill": {
     "duration": 0.076398,
     "end_time": "2022-03-31T05:15:01.951408",
     "exception": false,
     "start_time": "2022-03-31T05:15:01.875010",
     "status": "completed"
    },
    "tags": []
   },
   "outputs": [],
   "source": [
    "df_sub['Transported'] = pred > 0.5\n",
    "df_sub.to_csv('submission.csv', index=False)"
   ]
  },
  {
   "cell_type": "code",
   "execution_count": 17,
   "id": "10d6f3fd",
   "metadata": {
    "execution": {
     "iopub.execute_input": "2022-03-31T05:15:02.066463Z",
     "iopub.status.busy": "2022-03-31T05:15:02.065778Z",
     "iopub.status.idle": "2022-03-31T05:15:02.071233Z",
     "shell.execute_reply": "2022-03-31T05:15:02.071823Z",
     "shell.execute_reply.started": "2022-03-31T04:59:13.363225Z"
    },
    "papermill": {
     "duration": 0.064771,
     "end_time": "2022-03-31T05:15:02.072002",
     "exception": false,
     "start_time": "2022-03-31T05:15:02.007231",
     "status": "completed"
    },
    "tags": []
   },
   "outputs": [
    {
     "data": {
      "text/plain": [
       "array([0.06216927, 0.09910269, 0.05559745, 0.03425378, 0.03554666,\n",
       "       0.03820172, 0.18200058, 0.0859693 , 0.01308144, 0.00843369,\n",
       "       0.04491653, 0.00871459, 0.00090478, 0.08188619, 0.02350554,\n",
       "       0.090977  , 0.0246456 , 0.09727473, 0.0044615 , 0.00835696])"
      ]
     },
     "execution_count": 17,
     "metadata": {},
     "output_type": "execute_result"
    }
   ],
   "source": [
    "model.feature_importances_"
   ]
  },
  {
   "cell_type": "markdown",
   "id": "0a8f8b7e",
   "metadata": {
    "papermill": {
     "duration": 0.055828,
     "end_time": "2022-03-31T05:15:02.184054",
     "exception": false,
     "start_time": "2022-03-31T05:15:02.128226",
     "status": "completed"
    },
    "tags": []
   },
   "source": [
    "## reference\n",
    "\n",
    "- https://www.kaggle.com/code/sinchir0/selfsupervisedtabnet-titanic-comparing-lgbm-nn\n",
    "\n",
    "## To-Do\n",
    "\n",
    "- wandb対応\n",
    "- 正規化が必要か調査\n",
    "- GPUで動かせるようにする\n",
    "- カテゴリ変数の扱い\n",
    "\n",
    "cat_idxs=cat_idxs, # comment out when Unsupervised\n",
    "                         cat_dims=cat_dims, # comment out when Unsupervised"
   ]
  },
  {
   "cell_type": "code",
   "execution_count": null,
   "id": "8a6c9fb9",
   "metadata": {
    "papermill": {
     "duration": 0.055856,
     "end_time": "2022-03-31T05:15:02.295666",
     "exception": false,
     "start_time": "2022-03-31T05:15:02.239810",
     "status": "completed"
    },
    "tags": []
   },
   "outputs": [],
   "source": []
  }
 ],
 "metadata": {
  "kernelspec": {
   "display_name": "Python 3",
   "language": "python",
   "name": "python3"
  },
  "language_info": {
   "codemirror_mode": {
    "name": "ipython",
    "version": 3
   },
   "file_extension": ".py",
   "mimetype": "text/x-python",
   "name": "python",
   "nbconvert_exporter": "python",
   "pygments_lexer": "ipython3",
   "version": "3.7.12"
  },
  "papermill": {
   "default_parameters": {},
   "duration": 470.85276,
   "end_time": "2022-03-31T05:15:03.567313",
   "environment_variables": {},
   "exception": null,
   "input_path": "__notebook__.ipynb",
   "output_path": "__notebook__.ipynb",
   "parameters": {},
   "start_time": "2022-03-31T05:07:12.714553",
   "version": "2.3.3"
  },
  "widgets": {
   "application/vnd.jupyter.widget-state+json": {
    "state": {
     "1905df531595409c94be8f6be574dc5d": {
      "model_module": "@jupyter-widgets/controls",
      "model_module_version": "1.5.0",
      "model_name": "FloatProgressModel",
      "state": {
       "_dom_classes": [],
       "_model_module": "@jupyter-widgets/controls",
       "_model_module_version": "1.5.0",
       "_model_name": "FloatProgressModel",
       "_view_count": null,
       "_view_module": "@jupyter-widgets/controls",
       "_view_module_version": "1.5.0",
       "_view_name": "ProgressView",
       "bar_style": "success",
       "description": "",
       "description_tooltip": null,
       "layout": "IPY_MODEL_c96385bf1173411ea54d3eeb917d6b98",
       "max": 5.0,
       "min": 0.0,
       "orientation": "horizontal",
       "style": "IPY_MODEL_db24be9f8cd04173b863a71b924ed0bf",
       "value": 5.0
      }
     },
     "65753d4cdddd4532a82c28631bf691c8": {
      "model_module": "@jupyter-widgets/controls",
      "model_module_version": "1.5.0",
      "model_name": "HTMLModel",
      "state": {
       "_dom_classes": [],
       "_model_module": "@jupyter-widgets/controls",
       "_model_module_version": "1.5.0",
       "_model_name": "HTMLModel",
       "_view_count": null,
       "_view_module": "@jupyter-widgets/controls",
       "_view_module_version": "1.5.0",
       "_view_name": "HTMLView",
       "description": "",
       "description_tooltip": null,
       "layout": "IPY_MODEL_725d8c5b08d64318b7fbf3f49d76e463",
       "placeholder": "​",
       "style": "IPY_MODEL_6649d0423aaa41169ab3f234f6fe030e",
       "value": " 5/5 [04:51&lt;00:00, 59.53s/it]"
      }
     },
     "6649d0423aaa41169ab3f234f6fe030e": {
      "model_module": "@jupyter-widgets/controls",
      "model_module_version": "1.5.0",
      "model_name": "DescriptionStyleModel",
      "state": {
       "_model_module": "@jupyter-widgets/controls",
       "_model_module_version": "1.5.0",
       "_model_name": "DescriptionStyleModel",
       "_view_count": null,
       "_view_module": "@jupyter-widgets/base",
       "_view_module_version": "1.2.0",
       "_view_name": "StyleView",
       "description_width": ""
      }
     },
     "693a10c2d924417e826266c8b7c974e4": {
      "model_module": "@jupyter-widgets/controls",
      "model_module_version": "1.5.0",
      "model_name": "HTMLModel",
      "state": {
       "_dom_classes": [],
       "_model_module": "@jupyter-widgets/controls",
       "_model_module_version": "1.5.0",
       "_model_name": "HTMLModel",
       "_view_count": null,
       "_view_module": "@jupyter-widgets/controls",
       "_view_module_version": "1.5.0",
       "_view_name": "HTMLView",
       "description": "",
       "description_tooltip": null,
       "layout": "IPY_MODEL_b288cef7a1854a1daf7f10f3b08c7f58",
       "placeholder": "​",
       "style": "IPY_MODEL_80b823a2d3834265aea451f335d610a7",
       "value": "100%"
      }
     },
     "725d8c5b08d64318b7fbf3f49d76e463": {
      "model_module": "@jupyter-widgets/base",
      "model_module_version": "1.2.0",
      "model_name": "LayoutModel",
      "state": {
       "_model_module": "@jupyter-widgets/base",
       "_model_module_version": "1.2.0",
       "_model_name": "LayoutModel",
       "_view_count": null,
       "_view_module": "@jupyter-widgets/base",
       "_view_module_version": "1.2.0",
       "_view_name": "LayoutView",
       "align_content": null,
       "align_items": null,
       "align_self": null,
       "border": null,
       "bottom": null,
       "display": null,
       "flex": null,
       "flex_flow": null,
       "grid_area": null,
       "grid_auto_columns": null,
       "grid_auto_flow": null,
       "grid_auto_rows": null,
       "grid_column": null,
       "grid_gap": null,
       "grid_row": null,
       "grid_template_areas": null,
       "grid_template_columns": null,
       "grid_template_rows": null,
       "height": null,
       "justify_content": null,
       "justify_items": null,
       "left": null,
       "margin": null,
       "max_height": null,
       "max_width": null,
       "min_height": null,
       "min_width": null,
       "object_fit": null,
       "object_position": null,
       "order": null,
       "overflow": null,
       "overflow_x": null,
       "overflow_y": null,
       "padding": null,
       "right": null,
       "top": null,
       "visibility": null,
       "width": null
      }
     },
     "80b823a2d3834265aea451f335d610a7": {
      "model_module": "@jupyter-widgets/controls",
      "model_module_version": "1.5.0",
      "model_name": "DescriptionStyleModel",
      "state": {
       "_model_module": "@jupyter-widgets/controls",
       "_model_module_version": "1.5.0",
       "_model_name": "DescriptionStyleModel",
       "_view_count": null,
       "_view_module": "@jupyter-widgets/base",
       "_view_module_version": "1.2.0",
       "_view_name": "StyleView",
       "description_width": ""
      }
     },
     "a259f912016945fa82eeb8d10c9d6bb1": {
      "model_module": "@jupyter-widgets/controls",
      "model_module_version": "1.5.0",
      "model_name": "HBoxModel",
      "state": {
       "_dom_classes": [],
       "_model_module": "@jupyter-widgets/controls",
       "_model_module_version": "1.5.0",
       "_model_name": "HBoxModel",
       "_view_count": null,
       "_view_module": "@jupyter-widgets/controls",
       "_view_module_version": "1.5.0",
       "_view_name": "HBoxView",
       "box_style": "",
       "children": [
        "IPY_MODEL_693a10c2d924417e826266c8b7c974e4",
        "IPY_MODEL_1905df531595409c94be8f6be574dc5d",
        "IPY_MODEL_65753d4cdddd4532a82c28631bf691c8"
       ],
       "layout": "IPY_MODEL_c525e08b77c8404995c8da448e09fe91"
      }
     },
     "b288cef7a1854a1daf7f10f3b08c7f58": {
      "model_module": "@jupyter-widgets/base",
      "model_module_version": "1.2.0",
      "model_name": "LayoutModel",
      "state": {
       "_model_module": "@jupyter-widgets/base",
       "_model_module_version": "1.2.0",
       "_model_name": "LayoutModel",
       "_view_count": null,
       "_view_module": "@jupyter-widgets/base",
       "_view_module_version": "1.2.0",
       "_view_name": "LayoutView",
       "align_content": null,
       "align_items": null,
       "align_self": null,
       "border": null,
       "bottom": null,
       "display": null,
       "flex": null,
       "flex_flow": null,
       "grid_area": null,
       "grid_auto_columns": null,
       "grid_auto_flow": null,
       "grid_auto_rows": null,
       "grid_column": null,
       "grid_gap": null,
       "grid_row": null,
       "grid_template_areas": null,
       "grid_template_columns": null,
       "grid_template_rows": null,
       "height": null,
       "justify_content": null,
       "justify_items": null,
       "left": null,
       "margin": null,
       "max_height": null,
       "max_width": null,
       "min_height": null,
       "min_width": null,
       "object_fit": null,
       "object_position": null,
       "order": null,
       "overflow": null,
       "overflow_x": null,
       "overflow_y": null,
       "padding": null,
       "right": null,
       "top": null,
       "visibility": null,
       "width": null
      }
     },
     "c525e08b77c8404995c8da448e09fe91": {
      "model_module": "@jupyter-widgets/base",
      "model_module_version": "1.2.0",
      "model_name": "LayoutModel",
      "state": {
       "_model_module": "@jupyter-widgets/base",
       "_model_module_version": "1.2.0",
       "_model_name": "LayoutModel",
       "_view_count": null,
       "_view_module": "@jupyter-widgets/base",
       "_view_module_version": "1.2.0",
       "_view_name": "LayoutView",
       "align_content": null,
       "align_items": null,
       "align_self": null,
       "border": null,
       "bottom": null,
       "display": null,
       "flex": null,
       "flex_flow": null,
       "grid_area": null,
       "grid_auto_columns": null,
       "grid_auto_flow": null,
       "grid_auto_rows": null,
       "grid_column": null,
       "grid_gap": null,
       "grid_row": null,
       "grid_template_areas": null,
       "grid_template_columns": null,
       "grid_template_rows": null,
       "height": null,
       "justify_content": null,
       "justify_items": null,
       "left": null,
       "margin": null,
       "max_height": null,
       "max_width": null,
       "min_height": null,
       "min_width": null,
       "object_fit": null,
       "object_position": null,
       "order": null,
       "overflow": null,
       "overflow_x": null,
       "overflow_y": null,
       "padding": null,
       "right": null,
       "top": null,
       "visibility": null,
       "width": null
      }
     },
     "c96385bf1173411ea54d3eeb917d6b98": {
      "model_module": "@jupyter-widgets/base",
      "model_module_version": "1.2.0",
      "model_name": "LayoutModel",
      "state": {
       "_model_module": "@jupyter-widgets/base",
       "_model_module_version": "1.2.0",
       "_model_name": "LayoutModel",
       "_view_count": null,
       "_view_module": "@jupyter-widgets/base",
       "_view_module_version": "1.2.0",
       "_view_name": "LayoutView",
       "align_content": null,
       "align_items": null,
       "align_self": null,
       "border": null,
       "bottom": null,
       "display": null,
       "flex": null,
       "flex_flow": null,
       "grid_area": null,
       "grid_auto_columns": null,
       "grid_auto_flow": null,
       "grid_auto_rows": null,
       "grid_column": null,
       "grid_gap": null,
       "grid_row": null,
       "grid_template_areas": null,
       "grid_template_columns": null,
       "grid_template_rows": null,
       "height": null,
       "justify_content": null,
       "justify_items": null,
       "left": null,
       "margin": null,
       "max_height": null,
       "max_width": null,
       "min_height": null,
       "min_width": null,
       "object_fit": null,
       "object_position": null,
       "order": null,
       "overflow": null,
       "overflow_x": null,
       "overflow_y": null,
       "padding": null,
       "right": null,
       "top": null,
       "visibility": null,
       "width": null
      }
     },
     "db24be9f8cd04173b863a71b924ed0bf": {
      "model_module": "@jupyter-widgets/controls",
      "model_module_version": "1.5.0",
      "model_name": "ProgressStyleModel",
      "state": {
       "_model_module": "@jupyter-widgets/controls",
       "_model_module_version": "1.5.0",
       "_model_name": "ProgressStyleModel",
       "_view_count": null,
       "_view_module": "@jupyter-widgets/base",
       "_view_module_version": "1.2.0",
       "_view_name": "StyleView",
       "bar_color": null,
       "description_width": ""
      }
     }
    },
    "version_major": 2,
    "version_minor": 0
   }
  }
 },
 "nbformat": 4,
 "nbformat_minor": 5
}
